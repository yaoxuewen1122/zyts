{
 "cells": [
  {
   "cell_type": "markdown",
   "metadata": {},
   "source": [
    "# 循环\n",
    "- 循环是一种控制语句块重复执行的结构\n",
    "- while  适用于广度遍历\n",
    "- for    开发中经常使用"
   ]
  },
  {
   "cell_type": "code",
   "execution_count": 3,
   "metadata": {},
   "outputs": [
    {
     "name": "stdout",
     "output_type": "stream",
     "text": [
      "a\n",
      "b\n",
      "c\n",
      "d\n"
     ]
    }
   ],
   "source": [
    "st='abcd'\n",
    "i=0\n",
    "while st[i]:\n",
    "    print(st[i])\n",
    "    i+=1\n",
    "    if i==4:\n",
    "        break"
   ]
  },
  {
   "cell_type": "markdown",
   "metadata": {},
   "source": [
    "## while 循环\n",
    "- 当一个条件保持真的时候while循环重复执行语句\n",
    "- while 循环一定要有结束条件，否则很容易进入死循环\n",
    "- while 循环的语法是：\n",
    "\n",
    "    while loop-contunuation-conndition:\n",
    "\n",
    "        Statement"
   ]
  },
  {
   "cell_type": "markdown",
   "metadata": {},
   "source": [
    "## 示例：\n",
    "sum = 0\n",
    "\n",
    "i = 1\n",
    "\n",
    "while i <10:\n",
    "\n",
    "    sum = sum + i\n",
    "    i = i + 1"
   ]
  },
  {
   "cell_type": "markdown",
   "metadata": {},
   "source": [
    "## 错误示例：\n",
    "sum = 0\n",
    "\n",
    "i = 1\n",
    "\n",
    "while i <10:\n",
    "\n",
    "    sum = sum + i\n",
    "\n",
    "i = i + 1\n",
    "- 一旦进入死循环可按 Ctrl + c 停止"
   ]
  },
  {
   "cell_type": "markdown",
   "metadata": {},
   "source": [
    "## EP：\n",
    "![](../Photo/143.png)\n",
    "![](../Photo/144.png)"
   ]
  },
  {
   "cell_type": "code",
   "execution_count": 4,
   "metadata": {},
   "outputs": [
    {
     "name": "stdout",
     "output_type": "stream",
     "text": [
      "shuru2\n",
      "shuru3\n",
      "shuru4\n",
      "shuru5\n",
      "shuru0\n",
      "5\n",
      "0\n"
     ]
    }
   ],
   "source": [
    "n=eval(input('shuru'))\n",
    "max=n\n",
    "while n != 0:\n",
    "    n=eval(input('shuru'))\n",
    "    if n>max:\n",
    "        max=n\n",
    "print(max)\n",
    "print(n)"
   ]
  },
  {
   "cell_type": "markdown",
   "metadata": {},
   "source": [
    "# 验证码\n",
    "- 随机产生四个字母的验证码，如果正确，输出验证码正确。如果错误，产生新的验证码，用户重新输入。\n",
    "- 验证码只能输入三次，如果三次都错，返回“别爬了，我们小网站没什么好爬的”\n",
    "- 密码登录，如果三次错误，账号被锁定\n"
   ]
  },
  {
   "cell_type": "code",
   "execution_count": 2,
   "metadata": {},
   "outputs": [
    {
     "name": "stdout",
     "output_type": "stream",
     "text": [
      "PTVE\n",
      "输入密码0\n",
      "输入验证码0\n",
      "验证码错误\n"
     ]
    }
   ],
   "source": [
    "import random\n",
    "i=3\n",
    "j=0\n",
    "mima='123'\n",
    "while i:\n",
    "    yzm=chr(random.randint(65,90))+chr(random.randint(65,90))+chr(random.randint(65,90))+chr(random.randint(65,90))\n",
    "    print(yzm)\n",
    "    mi=input('输入密码')\n",
    "    shuru=input('输入验证码')\n",
    "    if yzm==shuru and mi==mima:\n",
    "        print('登陆成功')\n",
    "        break\n",
    "    elif yzm!=shuru:\n",
    "        i-=1\n",
    "        print('验证码错误')\n",
    "    if yzm==shuru and mi!=mima:\n",
    "        print('密码错误')\n",
    "        j+=1\n",
    "    if j==3:\n",
    "        print('账户锁定')\n",
    "        i=-1\n",
    "    if i==0:\n",
    "        print('别爬了，我们小网站没什么好爬的')\n",
    "    if mi=='0':\n",
    "        break\n",
    "#        while 1:\n",
    "#            yzm=chr(random.randint(65,90))+chr(random.randint(65,90))+chr(random.randint(65,90))+chr(random.randint(65,90))#\n",
    "#            print(yzm)\n",
    "#            shuru=input('输入验证码')\n",
    "#            print('账户被锁定')\n",
    "        \n"
   ]
  },
  {
   "cell_type": "code",
   "execution_count": 12,
   "metadata": {},
   "outputs": [
    {
     "data": {
      "image/png": "[encoded data removed]",
      "text/plain": [
       "<matplotlib.figure.Figure at 0x1ccc47f1358>"
      ]
     },
     "metadata": {},
     "output_type": "display_data"
    }
   ],
   "source": [
    "import matplotlib.pyplot as plt\n",
    "import random\n",
    "x_x=[]\n",
    "y_y=[]\n",
    "x_z=[]\n",
    "y_z=[]\n",
    "for x in range(-10,10,1):\n",
    "    y=x**2\n",
    "    x_x.append(x)\n",
    "    y_y.append(y)\n",
    "for xz in range(-2,10,1):\n",
    "    yz=xz*10+20\n",
    "    x_z.append(xz)\n",
    "    y_z.append(yz)\n",
    "plt.plot(x_x,y_y)\n",
    "plt.plot(x_z,y_z)\n",
    "plt.show()"
   ]
  },
  {
   "cell_type": "code",
   "execution_count": 11,
   "metadata": {},
   "outputs": [
    {
     "data": {
      "text/plain": [
       "0.5140808927624291"
      ]
     },
     "execution_count": 11,
     "metadata": {},
     "output_type": "execute_result"
    }
   ],
   "source": [
    "import random\n",
    "random.random()"
   ]
  },
  {
   "cell_type": "markdown",
   "metadata": {},
   "source": [
    "## 尝试死循环"
   ]
  },
  {
   "cell_type": "markdown",
   "metadata": {},
   "source": [
    "## 实例研究：猜数字\n",
    "- 你将要编写一个能够随机生成一个0到10之间的且包括两者的数字程序，这个程序\n",
    "- 提示用户连续地输入数字直到正确，且提示用户输入的数字是过高还是过低"
   ]
  },
  {
   "cell_type": "code",
   "execution_count": 17,
   "metadata": {},
   "outputs": [
    {
     "name": "stdout",
     "output_type": "stream",
     "text": [
      "猜数字2\n",
      "小了\n",
      "猜数字5\n",
      "小了\n",
      "猜数字8\n",
      "猜对了\n"
     ]
    }
   ],
   "source": [
    "import random\n",
    "s=random.randint (0,10)\n",
    "c=int(input('猜数字'))\n",
    "while c != s :\n",
    "    if c>s:\n",
    "        print('大了')\n",
    "    else:\n",
    "        print('小了')\n",
    "    c=int(input('猜数字'))\n",
    "print('猜对了')"
   ]
  },
  {
   "cell_type": "markdown",
   "metadata": {},
   "source": [
    "## 使用哨兵值来控制循环\n",
    "- 哨兵值来表明输入的结束\n",
    "- ![](../Photo/54.png)"
   ]
  },
  {
   "cell_type": "markdown",
   "metadata": {},
   "source": [
    "## 警告\n",
    "![](../Photo/55.png)"
   ]
  },
  {
   "cell_type": "markdown",
   "metadata": {},
   "source": [
    "## for 循环\n",
    "- Python的for 循环通过一个序列中的每个值来进行迭代\n",
    "- range(a,b,k)， a，b，k 必须为整数\n",
    "- a: start\n",
    "- b: end\n",
    "- k: step\n",
    "- 注意for 是循环一切可迭代对象，而不是只能使用range"
   ]
  },
  {
   "cell_type": "markdown",
   "metadata": {},
   "source": [
    "# 在Python里面一切皆对象"
   ]
  },
  {
   "cell_type": "markdown",
   "metadata": {},
   "source": [
    "## EP:\n",
    "- ![](../Photo/145.png)"
   ]
  },
  {
   "cell_type": "markdown",
   "metadata": {},
   "source": [
    "## 嵌套循环\n",
    "- 一个循环可以嵌套另一个循环\n",
    "- 每次循环外层时，内层循环都会被刷新重新完成循环\n",
    "- 也就是说，大循环执行一次，小循环会全部执行一次\n",
    "- 注意：\n",
    "> - 多层循环非常耗时\n",
    "  - 最多使用3层循环"
   ]
  },
  {
   "cell_type": "markdown",
   "metadata": {},
   "source": [
    "## EP：\n",
    "- 使用多层循环完成9X9乘法表\n",
    "- 显示50以内所有的素数"
   ]
  },
  {
   "cell_type": "code",
   "execution_count": 23,
   "metadata": {},
   "outputs": [
    {
     "name": "stdout",
     "output_type": "stream",
     "text": [
      "1 ✖ 1 = 1 \n",
      "1 ✖ 2 = 2 2 ✖ 2 = 4 \n",
      "1 ✖ 3 = 3 2 ✖ 3 = 6 3 ✖ 3 = 9 \n",
      "1 ✖ 4 = 4 2 ✖ 4 = 8 3 ✖ 4 = 12 4 ✖ 4 = 16 \n",
      "1 ✖ 5 = 5 2 ✖ 5 = 10 3 ✖ 5 = 15 4 ✖ 5 = 20 5 ✖ 5 = 25 \n",
      "1 ✖ 6 = 6 2 ✖ 6 = 12 3 ✖ 6 = 18 4 ✖ 6 = 24 5 ✖ 6 = 30 6 ✖ 6 = 36 \n",
      "1 ✖ 7 = 7 2 ✖ 7 = 14 3 ✖ 7 = 21 4 ✖ 7 = 28 5 ✖ 7 = 35 6 ✖ 7 = 42 7 ✖ 7 = 49 \n",
      "1 ✖ 8 = 8 2 ✖ 8 = 16 3 ✖ 8 = 24 4 ✖ 8 = 32 5 ✖ 8 = 40 6 ✖ 8 = 48 7 ✖ 8 = 56 8 ✖ 8 = 64 \n",
      "1 ✖ 9 = 9 2 ✖ 9 = 18 3 ✖ 9 = 27 4 ✖ 9 = 36 5 ✖ 9 = 45 6 ✖ 9 = 54 7 ✖ 9 = 63 8 ✖ 9 = 72 9 ✖ 9 = 81 \n"
     ]
    }
   ],
   "source": [
    "for i in range(1,10):\n",
    "    for j in range(1,i+1):\n",
    "        print(j,'✖',i,'=',i*j,end=' ')\n",
    "    print('')"
   ]
  },
  {
   "cell_type": "code",
   "execution_count": 137,
   "metadata": {},
   "outputs": [
    {
     "name": "stdout",
     "output_type": "stream",
     "text": [
      "2\n",
      "3\n",
      "5\n",
      "7\n",
      "11\n",
      "13\n",
      "17\n",
      "19\n",
      "23\n",
      "29\n",
      "31\n",
      "37\n",
      "41\n",
      "43\n",
      "47\n"
     ]
    }
   ],
   "source": [
    "for i in range(2,50):\n",
    "    for j in range(2,i+1):\n",
    "        if i%j==0:\n",
    "            break\n",
    "    if i==j:\n",
    "        print(j)"
   ]
  },
  {
   "cell_type": "markdown",
   "metadata": {},
   "source": [
    "## 关键字 break 和 continue\n",
    "- break 跳出循环，终止循环\n",
    "- continue 跳出此次循环，继续执行"
   ]
  },
  {
   "cell_type": "markdown",
   "metadata": {},
   "source": [
    "## 注意\n",
    "![](../Photo/56.png)\n",
    "![](../Photo/57.png)"
   ]
  },
  {
   "cell_type": "markdown",
   "metadata": {},
   "source": [
    "# Homework\n",
    "- 1 \n",
    "![](../Photo/58.png)"
   ]
  },
  {
   "cell_type": "code",
   "execution_count": 74,
   "metadata": {},
   "outputs": [
    {
     "name": "stdout",
     "output_type": "stream",
     "text": [
      "输入一个数1\n",
      "输入一个数2\n",
      "输入一个数3\n",
      "输入一个数4\n",
      "输入一个数5\n",
      "输入一个数6\n",
      "输入一个数7\n",
      "输入一个数8\n",
      "输入一个数9\n",
      "输入一个数0\n",
      "正数 9 负数 0 平均值 5.0\n"
     ]
    }
   ],
   "source": [
    "shu=int(input('输入一个数'))\n",
    "z=0\n",
    "f=0\n",
    "s=0\n",
    "while shu!=0:\n",
    "    if shu>0:\n",
    "        z+=1\n",
    "    if shu<0:\n",
    "        f+=1\n",
    "    s=float(s+shu)\n",
    "    shu=int(input('输入一个数'))\n",
    "print('正数',z,'负数',f,'平均值',s/(z+f))"
   ]
  },
  {
   "cell_type": "markdown",
   "metadata": {},
   "source": [
    "- 2\n",
    "![](../Photo/59.png)"
   ]
  },
  {
   "cell_type": "code",
   "execution_count": 79,
   "metadata": {},
   "outputs": [
    {
     "data": {
      "text/plain": [
       "16288.94626777442"
      ]
     },
     "execution_count": 79,
     "metadata": {},
     "output_type": "execute_result"
    }
   ],
   "source": [
    "10000*1.05**10"
   ]
  },
  {
   "cell_type": "markdown",
   "metadata": {},
   "source": [
    "- 3\n",
    "![](../Photo/58.png)"
   ]
  },
  {
   "cell_type": "markdown",
   "metadata": {},
   "source": [
    "- 4\n",
    "![](../Photo/60.png)"
   ]
  },
  {
   "cell_type": "code",
   "execution_count": 99,
   "metadata": {},
   "outputs": [
    {
     "name": "stdout",
     "output_type": "stream",
     "text": [
      "120 150 180 210 240 270 300 330 360 390 \n",
      "420 450 480 510 540 570 600 630 660 690 \n",
      "720 750 780 810 840 870 900 930 960 990 \n"
     ]
    }
   ],
   "source": [
    "j=0\n",
    "for i in range(100,1000):\n",
    "    if i % 30 == 0:\n",
    "        print(i,end=' ')\n",
    "        j=j+1\n",
    "        if j % 10 == 0:\n",
    "            print('')\n"
   ]
  },
  {
   "cell_type": "markdown",
   "metadata": {},
   "source": [
    "- 5\n",
    "![](../Photo/61.png)"
   ]
  },
  {
   "cell_type": "code",
   "execution_count": 105,
   "metadata": {},
   "outputs": [
    {
     "name": "stdout",
     "output_type": "stream",
     "text": [
      "110\n",
      "22\n"
     ]
    }
   ],
   "source": [
    "i=1\n",
    "while i:\n",
    "    if i**2>12000:\n",
    "        print(i)\n",
    "        break\n",
    "    i=i+1\n",
    "j=1\n",
    "while j:\n",
    "    if j**3>12000:\n",
    "        print (j-1)\n",
    "        break\n",
    "    j+=1\n",
    "        "
   ]
  },
  {
   "cell_type": "markdown",
   "metadata": {},
   "source": [
    "- 6\n",
    "![](../Photo/62.png)"
   ]
  },
  {
   "cell_type": "code",
   "execution_count": 122,
   "metadata": {},
   "outputs": [
    {
     "name": "stdout",
     "output_type": "stream",
     "text": [
      "钱10000\n",
      "年5\n",
      "5.0 %  212.71     12762.82\n",
      "5.125 %  213.98     12838.97\n",
      "5.25 %  215.26     12915.48\n",
      "5.375 %  216.54     12992.36\n",
      "5.5 %  217.83     13069.6\n",
      "5.625 %  219.12     13147.21\n",
      "5.75 %  220.42     13225.19\n",
      "5.875 %  221.73     13303.54\n",
      "6.0 %  223.04     13382.26\n",
      "6.125 %  224.36     13461.35\n",
      "6.25 %  225.68     13540.81\n",
      "6.375 %  227.01     13620.65\n",
      "6.5 %  228.35     13700.87\n",
      "6.625 %  229.69     13781.46\n",
      "6.75 %  231.04     13862.43\n",
      "6.875 %  232.4     13943.78\n",
      "7.0 %  233.76     14025.52\n",
      "7.125 %  235.13     14107.63\n",
      "7.25 %  236.5     14190.13\n",
      "7.375 %  237.88     14273.02\n",
      "7.5 %  239.27     14356.29\n",
      "7.625 %  240.67     14439.95\n",
      "7.75 %  242.07     14524.01\n",
      "7.875 %  243.47     14608.45\n",
      "8.0 %  244.89     14693.28\n"
     ]
    }
   ],
   "source": [
    "qian=int(input('钱'))\n",
    "nian=int(input('年'))\n",
    "lilv=5/100\n",
    "while lilv < 0.081:\n",
    "    print(round(lilv*100,3),'%',end='  ')\n",
    "    zong=qian*((1+lilv)**nian)\n",
    "    huan=zong/nian/12\n",
    "    print(round(huan,2),'   ',round(zong,2))\n",
    "    lilv+=0.00125\n",
    "    "
   ]
  },
  {
   "cell_type": "markdown",
   "metadata": {},
   "source": [
    "- 7\n",
    "![](../Photo/63.png)"
   ]
  },
  {
   "cell_type": "code",
   "execution_count": 120,
   "metadata": {},
   "outputs": [
    {
     "name": "stdout",
     "output_type": "stream",
     "text": [
      "11.397003949278519\n"
     ]
    }
   ],
   "source": [
    "i=50000\n",
    "s=0\n",
    "while i>0:\n",
    "    s=s+1/i\n",
    "    i-=1\n",
    "print (s)"
   ]
  },
  {
   "cell_type": "markdown",
   "metadata": {},
   "source": [
    "- 8\n",
    "![](../Photo/64.png)"
   ]
  },
  {
   "cell_type": "code",
   "execution_count": 12,
   "metadata": {},
   "outputs": [
    {
     "name": "stdout",
     "output_type": "stream",
     "text": [
      "45.124450303050196\n"
     ]
    }
   ],
   "source": [
    "s=0\n",
    "for i in range(1,99,2):\n",
    "    s=s+i/(i+2)\n",
    "print(s)"
   ]
  },
  {
   "cell_type": "markdown",
   "metadata": {},
   "source": [
    "- 9\n",
    "![](../Photo/65.png)"
   ]
  },
  {
   "cell_type": "code",
   "execution_count": 10,
   "metadata": {
    "scrolled": false
   },
   "outputs": [
    {
     "name": "stdout",
     "output_type": "stream",
     "text": [
      "3.1416926635905345\n",
      "3.1416426560898874\n",
      "3.1416259880342583\n",
      "3.1416176542148064\n",
      "3.1416126539897853\n",
      "3.1416093205342155\n",
      "3.1416069395081365\n",
      "3.1416051537460006\n",
      "3.1416037648243034\n",
      "3.1416026536897204\n"
     ]
    }
   ],
   "source": [
    "j=10000\n",
    "while j<100001:\n",
    "    pai=0\n",
    "    for i in range(1,j):\n",
    "        pai=pai+((-1)**(i+1))/(2*i-1)\n",
    "    print (pai*4)\n",
    "    j+=10000"
   ]
  },
  {
   "cell_type": "markdown",
   "metadata": {},
   "source": [
    "- 10 \n",
    "![](../Photo/66.png)"
   ]
  },
  {
   "cell_type": "code",
   "execution_count": 57,
   "metadata": {},
   "outputs": [
    {
     "name": "stdout",
     "output_type": "stream",
     "text": [
      "6\n",
      "28\n",
      "496\n",
      "8128\n"
     ]
    }
   ],
   "source": [
    "s=0\n",
    "for i in range(2,10000):\n",
    "    for j in range(1,i):\n",
    "        if i%j==0:\n",
    "            s=s+j \n",
    "        \n",
    "        if i==s and (j+1)==i:\n",
    "            print(s)\n",
    "            s=0\n",
    "            \n",
    "        if i==(j+1):\n",
    "            s=0"
   ]
  },
  {
   "cell_type": "markdown",
   "metadata": {},
   "source": [
    "- 11\n",
    "![](../Photo/67.png)"
   ]
  },
  {
   "cell_type": "code",
   "execution_count": 59,
   "metadata": {},
   "outputs": [
    {
     "name": "stdout",
     "output_type": "stream",
     "text": [
      "2 1\n",
      "3 1\n",
      "3 2\n",
      "4 1\n",
      "4 2\n",
      "4 3\n",
      "5 1\n",
      "5 2\n",
      "5 3\n",
      "5 4\n",
      "6 1\n",
      "6 2\n",
      "6 3\n",
      "6 4\n",
      "6 5\n",
      "7 1\n",
      "7 2\n",
      "7 3\n",
      "7 4\n",
      "7 5\n",
      "7 6\n",
      "21\n"
     ]
    }
   ],
   "source": [
    "k=0\n",
    "for i in range(1,8):\n",
    "    for j in range(1,i):\n",
    "        if i!=j:\n",
    "            print(i,j)\n",
    "            k+=1\n",
    "print (k)"
   ]
  },
  {
   "cell_type": "markdown",
   "metadata": {},
   "source": [
    "- 12\n",
    "![](../Photo/68.png)"
   ]
  },
  {
   "cell_type": "code",
   "execution_count": 60,
   "metadata": {},
   "outputs": [
    {
     "name": "stdout",
     "output_type": "stream",
     "text": [
      "0\n",
      "1\n",
      "2\n",
      "3\n",
      "4\n",
      "5\n",
      "6\n",
      "7\n",
      "8\n",
      "9\n"
     ]
    }
   ],
   "source": [
    "su=0\n",
    "for i in range(10):\n",
    "    su+=int(input('输入年龄'))"
   ]
  },
  {
   "cell_type": "code",
   "execution_count": 59,
   "metadata": {},
   "outputs": [
    {
     "data": {
      "text/plain": [
       "386.36"
      ]
     },
     "execution_count": 59,
     "metadata": {},
     "output_type": "execute_result"
    }
   ],
   "source": [
    "1 **2 + 2**2 + 3**2 + 5.5 *2 + 5.6 **2 + 6 **2 + 7**2 + 8**2 + 9 **2 + 10 **2"
   ]
  },
  {
   "cell_type": "code",
   "execution_count": 60,
   "metadata": {},
   "outputs": [
    {
     "data": {
      "text/plain": [
       "57.1"
      ]
     },
     "execution_count": 60,
     "metadata": {},
     "output_type": "execute_result"
    }
   ],
   "source": [
    "1  + 2 + 3 + 5.5  + 5.6 + 6 + 7 + 8+ 9  + 10"
   ]
  }
 ],
 "metadata": {
  "kernelspec": {
   "display_name": "Python 3",
   "language": "python",
   "name": "python3"
  },
  "language_info": {
   "codemirror_mode": {
    "name": "ipython",
    "version": 3
   },
   "file_extension": ".py",
   "mimetype": "text/x-python",
   "name": "python",
   "nbconvert_exporter": "python",
   "pygments_lexer": "ipython3",
   "version": "3.6.4"
  }
 },
 "nbformat": 4,
 "nbformat_minor": 2
}
