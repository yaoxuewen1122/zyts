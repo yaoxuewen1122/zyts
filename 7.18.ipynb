{
 "cells": [
  {
   "cell_type": "markdown",
   "metadata": {},
   "source": [
    "# 选择\n",
    "## 布尔类型、数值和表达式\n",
    "![](../Photo/33.png)\n",
    "- 注意：比较运算符的相等是两个等到，一个等到代表赋值\n",
    "- 在Python中可以用整型0来代表False，其他数字来代表True\n",
    "- 后面还会讲到 is 在判断语句中的用发"
   ]
  },
  {
   "cell_type": "code",
   "execution_count": 10,
   "metadata": {},
   "outputs": [],
   "source": [
    "yue=1000"
   ]
  },
  {
   "cell_type": "code",
   "execution_count": 21,
   "metadata": {},
   "outputs": [
    {
     "name": "stdout",
     "output_type": "stream",
     "text": [
      "请输入取款金额：1\n",
      "取款成功剩余 0\n"
     ]
    }
   ],
   "source": [
    "qk=int(input('请输入取款金额：'))\n",
    "yue=yue-qk\n",
    "if yue >= 0:\n",
    "    print('取款成功剩余',yue)\n",
    "else :\n",
    "    yue=yue+qk\n",
    "    print('余额不足，取款失败')"
   ]
  },
  {
   "cell_type": "markdown",
   "metadata": {},
   "source": [
    "## 字符串的比较使用ASCII值"
   ]
  },
  {
   "cell_type": "markdown",
   "metadata": {},
   "source": [
    "## Markdown \n",
    "- https://github.com/younghz/Markdown"
   ]
  },
  {
   "cell_type": "markdown",
   "metadata": {},
   "source": [
    "## EP:\n",
    "- <img src=\"../Photo/34.png\"></img>\n",
    "- 输入一个数字，判断其实奇数还是偶数"
   ]
  },
  {
   "cell_type": "markdown",
   "metadata": {},
   "source": [
    "## 产生随机数字\n",
    "- 函数random.randint(a,b) 可以用来产生一个a和b之间且包括a和b的随机整数"
   ]
  },
  {
   "cell_type": "markdown",
   "metadata": {},
   "source": [
    "##  其他random方法\n",
    "- random.random 返回0.0到1.0之间前闭后开区间的随机浮点\n",
    "- random.randrange(a,b) 前闭后开"
   ]
  },
  {
   "cell_type": "markdown",
   "metadata": {},
   "source": [
    "## EP：\n",
    "- 产生两个随机整数number1和number2，然后显示给用户，使用户输入数字的和，并判定其是否正确\n",
    "- 进阶:写一个随机序号点名程序"
   ]
  },
  {
   "cell_type": "code",
   "execution_count": 112,
   "metadata": {},
   "outputs": [
    {
     "name": "stdout",
     "output_type": "stream",
     "text": [
      "请第 4 行,第 1 列的同学回答问题\n"
     ]
    }
   ],
   "source": [
    "import random\n",
    "hang = random.randint(1,10)\n",
    "i=5\n",
    "if hang==10:\n",
    "    i=4\n",
    "if hang==9:\n",
    "    i=6\n",
    "lie = random.randint(1,i)\n",
    "print ('请第',hang,'行,第',lie,'列的同学回答问题')"
   ]
  },
  {
   "cell_type": "markdown",
   "metadata": {},
   "source": [
    "## if语句\n",
    "- 如果条件正确就执行一个单向if语句，亦即当条件为真的时候才执行if内部的语句\n",
    "- Python有很多选择语句:\n",
    "> - 单向if \n",
    "  - 双向if-else\n",
    "  - 嵌套if\n",
    "  - 多向if-elif-else\n",
    "  \n",
    "- 注意：当语句含有子语句的时候，那么一定至少要有一个缩进，也就是说如果有儿子存在，那么一定要缩进\n",
    "- 切记不可tab键和space混用，单用tab 或者 space\n",
    "- 当你输出的结果是无论if是否为真时都需要显示时，语句应该与if对齐"
   ]
  },
  {
   "cell_type": "code",
   "execution_count": 116,
   "metadata": {},
   "outputs": [
    {
     "name": "stdout",
     "output_type": "stream",
     "text": [
      "输入成绩判断等级    77\n",
      "C级\n"
     ]
    }
   ],
   "source": [
    "cj=int(input ('输入成绩判断等级    '))\n",
    "if cj==100:\n",
    "    print('满分')\n",
    "elif cj>=90:\n",
    "    print('A级')\n",
    "elif cj>=80:\n",
    "    print('B级')\n",
    "elif cj>=70:\n",
    "    print('C级')\n",
    "elif cj>=60:\n",
    "    print('D级')\n",
    "else:\n",
    "    print('不及格')\n"
   ]
  },
  {
   "cell_type": "markdown",
   "metadata": {},
   "source": [
    "## EP：\n",
    "- 用户输入一个数字，判断其实奇数还是偶数\n",
    "- 进阶：可以查看下4.5实例研究猜生日"
   ]
  },
  {
   "cell_type": "markdown",
   "metadata": {},
   "source": [
    "## 双向if-else 语句\n",
    "- 如果条件为真，那么走if内部语句，否则走else内部语句"
   ]
  },
  {
   "cell_type": "markdown",
   "metadata": {},
   "source": [
    "## EP：\n",
    "- 产生两个随机整数number1和number2，然后显示给用户，使用户输入数字，并判定其是否正确,如果正确打印“you‘re correct”，否则打印正确错误"
   ]
  },
  {
   "cell_type": "markdown",
   "metadata": {},
   "source": [
    "## 嵌套if 和多向if-elif-else\n",
    "![](../Photo/35.png)"
   ]
  },
  {
   "cell_type": "markdown",
   "metadata": {},
   "source": [
    "## EP：\n",
    "- 提示用户输入一个年份，然后显示表示这一年的动物\n",
    "![](../Photo/36.png)\n",
    "- 计算身体质量指数的程序\n",
    "- BMI = 以千克为单位的体重除以以米为单位的身高\n",
    "![](../Photo/37.png)"
   ]
  },
  {
   "cell_type": "code",
   "execution_count": null,
   "metadata": {},
   "outputs": [],
   "source": []
  },
  {
   "cell_type": "markdown",
   "metadata": {},
   "source": [
    "## 逻辑运算符\n",
    "![](../Photo/38.png)"
   ]
  },
  {
   "cell_type": "markdown",
   "metadata": {},
   "source": [
    "![](../Photo/39.png)\n",
    "![](../Photo/40.png)"
   ]
  },
  {
   "cell_type": "code",
   "execution_count": 63,
   "metadata": {},
   "outputs": [
    {
     "data": {
      "text/plain": [
       "1"
      ]
     },
     "execution_count": 63,
     "metadata": {},
     "output_type": "execute_result"
    }
   ],
   "source": [
    "import win32com.client\n",
    "\n",
    "dehua = win32com.client.Dispatch('SAPI.SPVOICE')\n",
    "dehua.Speak('贺国权是个大傻逼')"
   ]
  },
  {
   "cell_type": "markdown",
   "metadata": {},
   "source": [
    "## EP：\n",
    "- 判定闰年：一个年份如果能被4整除但不能被100整除，或者能被400整除，那么这个年份就是闰年\n",
    "- 提示用户输入一个年份，并返回是否是闰年\n",
    "- 提示用户输入一个数字，判断其是否为水仙花数"
   ]
  },
  {
   "cell_type": "code",
   "execution_count": 15,
   "metadata": {},
   "outputs": [
    {
     "name": "stdout",
     "output_type": "stream",
     "text": [
      "输入年份判断是否为闰年2\n",
      "0\n"
     ]
    }
   ],
   "source": [
    "nf=int(input('输入年份判断是否为闰年'))\n",
    "if nf%4==0:\n",
    "    if nf%100==0 and nf%400==0:\n",
    "        print ('1')\n",
    "    print('1')\n",
    "else:\n",
    "    print('0')"
   ]
  },
  {
   "cell_type": "code",
   "execution_count": 16,
   "metadata": {},
   "outputs": [
    {
     "name": "stdout",
     "output_type": "stream",
     "text": [
      "请输入一个3位数111\n",
      "不是水仙花数 \n"
     ]
    }
   ],
   "source": [
    "#数学方法验证水仙花数\n",
    "shuzi=int(input('请输入一个3位数'))\n",
    "a=shuzi//100\n",
    "b=shuzi%100//10\n",
    "c=shuzi%10\n",
    "if a**3+b**3+c**3==shuzi:\n",
    "    print('是水仙花数')\n",
    "else :\n",
    "    print('不是水仙花数 ')"
   ]
  },
  {
   "cell_type": "code",
   "execution_count": null,
   "metadata": {},
   "outputs": [],
   "source": [
    "#字符串方法验证水仙花数\n",
    "shuzi=input('请输入一个3位数')\n",
    "bai=int(shuzi[])"
   ]
  },
  {
   "cell_type": "code",
   "execution_count": 20,
   "metadata": {},
   "outputs": [
    {
     "name": "stdout",
     "output_type": "stream",
     "text": [
      "153\n",
      "370\n",
      "371\n",
      "407\n"
     ]
    }
   ],
   "source": [
    "\n",
    "for i in range(100,1000):\n",
    "    a=i//100\n",
    "    b=i%100//10\n",
    "    c=i%10\n",
    "    if a**3+b**3+c**3==i:\n",
    "        print(i)\n"
   ]
  },
  {
   "cell_type": "markdown",
   "metadata": {},
   "source": [
    "## 实例研究：彩票\n",
    "![](../Photo/41.png)"
   ]
  },
  {
   "cell_type": "code",
   "execution_count": 26,
   "metadata": {},
   "outputs": [
    {
     "name": "stdout",
     "output_type": "stream",
     "text": [
      "请输入一个两位数字98\n",
      "开奖了 98\n",
      "$10000\n"
     ]
    }
   ],
   "source": [
    "import random\n",
    "sj=random.randint(10,100)\n",
    "sj=str(sj)\n",
    "yh=input('请输入一个两位数字')\n",
    "print('开奖了',sj)\n",
    "if sj==yh:\n",
    "    print('$10000')\n",
    "elif sj[0]==yh[1] and sj[1]==yh[0]:\n",
    "    print('$3000')\n",
    "elif yh[0]==sj[0] or yh[1]==sj[0]:\n",
    "    print('$1000')\n",
    "elif yh[0]==sj[1] or yh[1]==sj[1]:\n",
    "    print('$1000')\n",
    "else:\n",
    "    print('谢谢惠顾')\n",
    "    "
   ]
  },
  {
   "cell_type": "code",
   "execution_count": null,
   "metadata": {},
   "outputs": [],
   "source": [
    "import random\n",
    "sj=random.randint(10,100)\n",
    "yh=eval(input('请输入一个两位数字'))\n",
    "if sj-yh==0:\n",
    "     print('$10000')\n",
    "elif (sj-yh)%10==0 or (sj-yh)//10==0:\n",
    "    print('$3000')\n",
    "elif sj%10==yh//10 and sj//10==yh%10:\n",
    "    print('$1000')"
   ]
  },
  {
   "cell_type": "markdown",
   "metadata": {},
   "source": [
    "# Homework\n",
    "- 1\n",
    "![](../Photo/42.png)"
   ]
  },
  {
   "cell_type": "code",
   "execution_count": 42,
   "metadata": {},
   "outputs": [
    {
     "name": "stdout",
     "output_type": "stream",
     "text": [
      "请输入a,b,c1,2,3\n",
      "无解\n"
     ]
    }
   ],
   "source": [
    "import math\n",
    "a,b,c = eval(input('请输入a,b,c'))\n",
    "a=int(a)\n",
    "b=int(b)\n",
    "c=int(c)\n",
    "d=b*b-4*a*c\n",
    "if d>0:\n",
    "    print('该方程的有两个不相等的实根x1=',((-b)+math.sqrt(d))/(2*a),'x2=',((-b)-math.sqrt(d))/(2*a))\n",
    "elif d==0:\n",
    "    print('该方程有两个相等的根','x1=x2=',(-b)/(2*a))\n",
    "else :\n",
    "    print('无解')"
   ]
  },
  {
   "cell_type": "markdown",
   "metadata": {},
   "source": [
    "- 2\n",
    "![](../Photo/43.png)"
   ]
  },
  {
   "cell_type": "code",
   "execution_count": 53,
   "metadata": {},
   "outputs": [
    {
     "name": "stdout",
     "output_type": "stream",
     "text": [
      "61 + 17 =78\n",
      "答对了\n"
     ]
    }
   ],
   "source": [
    "import random\n",
    "a=random.randint(0,100)\n",
    "b=random.randint(0,100)\n",
    "print(a,'+',b,'=',end='')\n",
    "c=eval(input())\n",
    "if a+b==c:\n",
    "    print('答对了')\n",
    "else:\n",
    "    print('暴露智商了')"
   ]
  },
  {
   "cell_type": "markdown",
   "metadata": {},
   "source": [
    "- 3\n",
    "![](../Photo/44.png)"
   ]
  },
  {
   "cell_type": "code",
   "execution_count": 62,
   "metadata": {},
   "outputs": [
    {
     "name": "stdout",
     "output_type": "stream",
     "text": [
      "今天星期几1\n",
      "要看几天后6\n",
      "6 天后是星期日\n"
     ]
    }
   ],
   "source": [
    "jt=int(input('今天星期几'))\n",
    "ts=int(input('要看几天后'))\n",
    "if (jt+ts)%7==0:\n",
    "    print (ts,'天后是星期日')\n",
    "else:\n",
    "    print(ts,'天后是星期',(jt+ts)%7)"
   ]
  },
  {
   "cell_type": "markdown",
   "metadata": {},
   "source": [
    "- 4\n",
    "![](../Photo/45.png)"
   ]
  },
  {
   "cell_type": "code",
   "execution_count": 69,
   "metadata": {},
   "outputs": [
    {
     "name": "stdout",
     "output_type": "stream",
     "text": [
      "依次输入三个整数3,1,2\n",
      "1   2   3\n"
     ]
    }
   ],
   "source": [
    "a,b,c=eval(input('依次输入三个整数'))\n",
    "if a<b:\n",
    "    t1=a\n",
    "    if c<a:\n",
    "        t1=c\n",
    "    elif b<c:\n",
    "        t2=b\n",
    "        t3=c\n",
    "    else :\n",
    "        t2=c\n",
    "        t3=b\n",
    "print(t1,' ',t2,' ',t3)\n",
    "        \n",
    "        "
   ]
  },
  {
   "cell_type": "markdown",
   "metadata": {},
   "source": [
    "- 5\n",
    "![](../Photo/46.png)"
   ]
  },
  {
   "cell_type": "code",
   "execution_count": 72,
   "metadata": {},
   "outputs": [
    {
     "name": "stdout",
     "output_type": "stream",
     "text": [
      "第一袋重量，价格50,24.59\n",
      "第二袋重量，价格25,11.99\n",
      "第二袋便宜\n"
     ]
    }
   ],
   "source": [
    "zl1,jg1=eval(input('第一袋重量，价格'))\n",
    "zl2,jg2=eval(input('第二袋重量，价格'))\n",
    "s1=jg1/zl1\n",
    "s2=jg2/zl2\n",
    "if s1>s2:\n",
    "    print('第二袋便宜')\n",
    "else:\n",
    "    print('第一袋便宜')"
   ]
  },
  {
   "cell_type": "markdown",
   "metadata": {},
   "source": [
    "- 6\n",
    "![](../Photo/47.png)"
   ]
  },
  {
   "cell_type": "code",
   "execution_count": 77,
   "metadata": {},
   "outputs": [
    {
     "name": "stdout",
     "output_type": "stream",
     "text": [
      "输入年和月2000,3\n",
      "31\n"
     ]
    }
   ],
   "source": [
    "nf,yf=eval(input('输入年和月'))\n",
    "if yf==1 or yf==3 or yf==5 or yf==7 or yf==8 or yf==10 or yf==12:\n",
    "    tian=31\n",
    "elif yf==2:\n",
    "    if nf%4==0:\n",
    "        if nf%100==0 and nf%400==0:\n",
    "            tian=29\n",
    "        tian=29\n",
    "    else:\n",
    "        tian=28\n",
    "else :\n",
    "    tian=30\n",
    "print(tian)"
   ]
  },
  {
   "cell_type": "markdown",
   "metadata": {},
   "source": [
    "- 7\n",
    "![](../Photo/48.png)"
   ]
  },
  {
   "cell_type": "code",
   "execution_count": 81,
   "metadata": {},
   "outputs": [
    {
     "name": "stdout",
     "output_type": "stream",
     "text": [
      "猜硬币的正反面，0为反;1为正1\n",
      "猜错了\n"
     ]
    }
   ],
   "source": [
    "import random\n",
    "a=random.randint(0,1)\n",
    "b=eval(input('猜硬币的正反面，0为反;1为正'))\n",
    "\n",
    "if a==b:\n",
    "    print ('猜对了')\n",
    "else:\n",
    "    print('猜错了')"
   ]
  },
  {
   "cell_type": "markdown",
   "metadata": {},
   "source": [
    "- 8\n",
    "![](../Photo/49.png)"
   ]
  },
  {
   "cell_type": "code",
   "execution_count": 122,
   "metadata": {},
   "outputs": [
    {
     "name": "stdout",
     "output_type": "stream",
     "text": [
      "剪刀0，石头1，布22\n",
      "2\n",
      "平局\n"
     ]
    }
   ],
   "source": [
    "import random\n",
    "yh=int(input('剪刀0，石头1，布2'))\n",
    "dn=random.randint(0,2)\n",
    "print(dn)\n",
    "if yh==dn:\n",
    "    print('平局')\n",
    "elif yh==2 and dn==0:\n",
    "    print('输了')\n",
    "elif yh==0 and dn==2:\n",
    "    print('赢了')\n",
    "elif yh>dn :\n",
    "    print('赢了')\n",
    "else:\n",
    "    print('输了')\n",
    "\n",
    "            \n",
    "    "
   ]
  },
  {
   "cell_type": "markdown",
   "metadata": {},
   "source": [
    "- 9\n",
    "![](../Photo/50.png)"
   ]
  },
  {
   "cell_type": "code",
   "execution_count": 145,
   "metadata": {},
   "outputs": [
    {
     "name": "stdout",
     "output_type": "stream",
     "text": [
      "请输入年，月，日2012,5,12\n",
      "2012 年 13 月 25 日是星期 6\n"
     ]
    }
   ],
   "source": [
    "nian,m,q=eval(input('请输入年，月，日'))\n",
    "if m==1 or m==2:\n",
    "    nian=nian-1\n",
    "    m=m+12\n",
    "j=nian//100\n",
    "k=nian%100\n",
    "h=(q+(26*(m+1))//10+k+k//4+j//4+5*j)%7\n",
    "if h==0 or h==1:\n",
    "    h=h+7\n",
    "if m==13 or m==14:\n",
    "    m-=12\n",
    "print(nian,'年',yue,'月',ri,'日是星期',h-1)"
   ]
  },
  {
   "cell_type": "markdown",
   "metadata": {},
   "source": [
    "- 10\n",
    "![](../Photo/51.png)"
   ]
  },
  {
   "cell_type": "code",
   "execution_count": 148,
   "metadata": {},
   "outputs": [
    {
     "ename": "NameError",
     "evalue": "name 'hus_z' is not defined",
     "output_type": "error",
     "traceback": [
      "\u001b[1;31m---------------------------------------------------------------------------\u001b[0m",
      "\u001b[1;31mNameError\u001b[0m                                 Traceback (most recent call last)",
      "\u001b[1;32m<ipython-input-148-14b480ab2a0d>\u001b[0m in \u001b[0;36m<module>\u001b[1;34m()\u001b[0m\n\u001b[0;32m     14\u001b[0m \u001b[1;32mif\u001b[0m \u001b[0mshu_z\u001b[0m\u001b[1;33m==\u001b[0m\u001b[1;34m'K'\u001b[0m\u001b[1;33m:\u001b[0m\u001b[1;33m\u001b[0m\u001b[0m\n\u001b[0;32m     15\u001b[0m     \u001b[0mshu_z\u001b[0m\u001b[1;33m=\u001b[0m\u001b[1;34m'King'\u001b[0m\u001b[1;33m\u001b[0m\u001b[0m\n\u001b[1;32m---> 16\u001b[1;33m \u001b[1;32mif\u001b[0m \u001b[0mhus_z\u001b[0m\u001b[1;33m==\u001b[0m\u001b[1;34m'M'\u001b[0m\u001b[1;33m:\u001b[0m\u001b[1;33m\u001b[0m\u001b[0m\n\u001b[0m\u001b[0;32m     17\u001b[0m     \u001b[0mhua_z\u001b[0m\u001b[1;33m=\u001b[0m\u001b[1;34m'梅花'\u001b[0m\u001b[1;33m\u001b[0m\u001b[0m\n\u001b[0;32m     18\u001b[0m \u001b[1;32mif\u001b[0m \u001b[0mhus_z\u001b[0m\u001b[1;33m==\u001b[0m\u001b[1;34m'H'\u001b[0m\u001b[1;33m:\u001b[0m\u001b[1;33m\u001b[0m\u001b[0m\n",
      "\u001b[1;31mNameError\u001b[0m: name 'hus_z' is not defined"
     ]
    }
   ],
   "source": [
    "import random\n",
    "shu='A234567890JQK'\n",
    "hua='MHFT'\n",
    "shu_s=random.randint(0,12)\n",
    "hua_s=random.randint(0,3)\n",
    "shu_z=shu[shu_s]\n",
    "hua_z=hua[hua_s]\n",
    "if shu_z=='A':\n",
    "    shu_z='Ace'\n",
    "if shu_z=='J':\n",
    "    shu_z='Jack'\n",
    "if shu_z=='Q':\n",
    "    shu_z='Queen'\n",
    "if shu_z=='K':\n",
    "    shu_z='King'\n",
    "if hus_z=='M':\n",
    "    hua_z='梅花'\n",
    "if hus_z=='H':\n",
    "    hua_z='红桃'\n",
    "if hus_z=='F':\n",
    "    hua_z='方块'\n",
    "if hus_z=='T':\n",
    "    hua_z='黑桃'\n",
    "print('你选的扑克是',hua_z,shu_z)"
   ]
  },
  {
   "cell_type": "markdown",
   "metadata": {},
   "source": [
    "- 11\n",
    "![](../Photo/52.png)"
   ]
  },
  {
   "cell_type": "code",
   "execution_count": 176,
   "metadata": {},
   "outputs": [
    {
     "name": "stdout",
     "output_type": "stream",
     "text": [
      "输入一个数判断是否为回文123\n",
      "不是回文\n"
     ]
    }
   ],
   "source": [
    "st=input('输入一个数判断是否为回文')\n",
    "sd=''\n",
    "for i in st:\n",
    "    sd=i+sd\n",
    "if st==sd:\n",
    "    print ('是回文')\n",
    "else:\n",
    "    print ('不是回文')"
   ]
  },
  {
   "cell_type": "markdown",
   "metadata": {},
   "source": [
    "- 12\n",
    "![](../Photo/53.png)"
   ]
  }
 ],
 "metadata": {
  "kernelspec": {
   "display_name": "Python 3",
   "language": "python",
   "name": "python3"
  },
  "language_info": {
   "codemirror_mode": {
    "name": "ipython",
    "version": 3
   },
   "file_extension": ".py",
   "mimetype": "text/x-python",
   "name": "python",
   "nbconvert_exporter": "python",
   "pygments_lexer": "ipython3",
   "version": "3.6.4"
  }
 },
 "nbformat": 4,
 "nbformat_minor": 2
}
